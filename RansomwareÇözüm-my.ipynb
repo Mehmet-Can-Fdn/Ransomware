{
 "cells": [
  {
   "cell_type": "code",
   "execution_count": 30,
   "metadata": {},
   "outputs": [
    {
     "name": "stdout",
     "output_type": "stream",
     "text": [
      "Test-97 oppclasses.ipynb\n"
     ]
    }
   ],
   "source": [
    "import os\n",
    "from cryptography.fernet import Fernet\n",
    "\n",
    "file_list = []\n",
    "\n",
    "#for file in os.listdir():\n",
    "    #if file == \"ransom.py\" or file == \"generatedkey.key\" or file==\"AdamAsmaca.ipynb\" or file == \"ransomdecrypter.py\":\n",
    "    #    continue\n",
    "file_list.append(\"Test-97 oppclasses.ipynb\")    \n",
    "    # if os.path.isfile(file):\n",
    "   #     file_list.append(file)\n",
    "         \n",
    "    \n",
    "with open(\"generatedkey.key\",\"rb\") as generatedkey:\n",
    "    secret_key = generatedkey.read()\n",
    "\n",
    "for file in file_list:\n",
    "    print(file)\n",
    "    with open(file,\"rb\") as the_file:\n",
    "        contents = the_file.read()\n",
    "    contents_decrypted = Fernet(secret_key).decrypt(contents)\n",
    "    with open(file,\"wb\") as the_file:\n",
    "        the_file.write(contents_decrypted)"
   ]
  },
  {
   "cell_type": "code",
   "execution_count": null,
   "metadata": {},
   "outputs": [],
   "source": []
  }
 ],
 "metadata": {
  "kernelspec": {
   "display_name": "Python 3",
   "language": "python",
   "name": "python3"
  },
  "language_info": {
   "codemirror_mode": {
    "name": "ipython",
    "version": 3
   },
   "file_extension": ".py",
   "mimetype": "text/x-python",
   "name": "python",
   "nbconvert_exporter": "python",
   "pygments_lexer": "ipython3",
   "version": "3.8.5"
  }
 },
 "nbformat": 4,
 "nbformat_minor": 4
}
